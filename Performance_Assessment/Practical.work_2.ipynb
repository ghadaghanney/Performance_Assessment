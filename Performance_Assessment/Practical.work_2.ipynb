{
 "cells": [
  {
   "cell_type": "markdown",
   "metadata": {},
   "source": [
    "# Exemple 2"
   ]
  },
  {
   "cell_type": "markdown",
   "metadata": {},
   "source": [
    "<img src=\"image1.jpg\"/>"
   ]
  },
  {
   "cell_type": "code",
   "execution_count": 14,
   "metadata": {},
   "outputs": [],
   "source": [
    "import numpy as np\n",
    "import matplotlib.pyplot as plt\n",
    "import random  "
   ]
  },
  {
   "cell_type": "code",
   "execution_count": 7,
   "metadata": {},
   "outputs": [],
   "source": [
    "def table(n): # Focntion qui va fénérer les valeurs xn \n",
    "    x=[]\n",
    "    t=[]\n",
    "    for i in range(n):\n",
    "        x.append(random.uniform(0,1)) \n",
    "    for i in x: \n",
    "        if i<0.3: \n",
    "            t.append(0) \n",
    "        elif i>= 0.3: \n",
    "            t.append(2) \n",
    "        else: \n",
    "            t.append(6) \n",
    "        \n",
    "    return t "
   ]
  },
  {
   "cell_type": "code",
   "execution_count": 9,
   "metadata": {},
   "outputs": [],
   "source": [
    "def moyenne(M) : # fonction qui calcule la moyenne empérique\n",
    "    n=len(M) \n",
    "    return (1/n)*(sum(M))"
   ]
  },
  {
   "cell_type": "code",
   "execution_count": 10,
   "metadata": {},
   "outputs": [],
   "source": [
    "def variance(M,xn): # fonction qui calcule la variance empérique\n",
    "    var=0\n",
    "    n=len(M) \n",
    "    for i in M:\n",
    "        var=(i-xn)**2 \n",
    "    return var/n "
   ]
  },
  {
   "cell_type": "code",
   "execution_count": 11,
   "metadata": {},
   "outputs": [
    {
     "name": "stdout",
     "output_type": "stream",
     "text": [
      "[1.6, 1.32, 1.42, 1.4118000000000002] \n",
      " [0.25600000000000006, 0.004624, 0.0003364000000000001, 3.459792399999998e-05]\n"
     ]
    }
   ],
   "source": [
    "n=[10,100,1000,10000] \n",
    "teta=[] # Les valeurs de la variance \n",
    "Xn=[]   # Les valeurs de la moyenne\n",
    "\n",
    "for i in n: \n",
    "    t=table(i) # xn\n",
    "    Xn.append(moyenne(t)) \n",
    "    teta.append(variance(t,moyenne(t)))\n",
    "    \n",
    "print(Xn,\"\\n\",teta) "
   ]
  },
  {
   "cell_type": "code",
   "execution_count": 13,
   "metadata": {},
   "outputs": [
    {
     "data": {
      "image/png": "[encoded data removed]",
      "text/plain": [
       "<Figure size 432x288 with 1 Axes>"
      ]
     },
     "metadata": {
      "needs_background": "light"
     },
     "output_type": "display_data"
    }
   ],
   "source": [
    "plt.plot(n,teta,'r*',color=\"yellow\",label=\"Variance empérique\")\n",
    "plt.plot(n,Xn,'b*',color=\"blue\",label=\"Moyenne empérique\")\n",
    "plt.xlabel(\"X= Nbr d'echantillons\")\n",
    "plt.ylabel(\"Y= Var aléatoires\")\n",
    "plt.title(\"Courbe\")\n",
    "plt.legend()\n",
    "plt.grid() \n",
    "plt.show() "
   ]
  },
  {
   "cell_type": "code",
   "execution_count": null,
   "metadata": {},
   "outputs": [],
   "source": []
  }
 ],
 "metadata": {
  "kernelspec": {
   "display_name": "Python 3",
   "language": "python",
   "name": "python3"
  },
  "language_info": {
   "codemirror_mode": {
    "name": "ipython",
    "version": 3
   },
   "file_extension": ".py",
   "mimetype": "text/x-python",
   "name": "python",
   "nbconvert_exporter": "python",
   "pygments_lexer": "ipython3",
   "version": "3.8.3"
  }
 },
 "nbformat": 4,
 "nbformat_minor": 4
}
