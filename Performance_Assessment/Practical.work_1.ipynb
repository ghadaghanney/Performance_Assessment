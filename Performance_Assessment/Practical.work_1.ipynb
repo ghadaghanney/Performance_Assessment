{
 "cells": [
  {
   "cell_type": "markdown",
   "metadata": {},
   "source": [
    "# Exemple 1  "
   ]
  },
  {
   "cell_type": "code",
   "execution_count": 53,
   "metadata": {},
   "outputs": [],
   "source": [
    "import random   \n",
    "import matplotlib.pyplot as plt   \n",
    "import math  "
   ]
  },
  {
   "cell_type": "code",
   "execution_count": 54,
   "metadata": {},
   "outputs": [],
   "source": [
    "def f(x,lamda): # Création de la focntion f(x)\n",
    "\n",
    "    return 1-math.exp(-lamda*x)"
   ]
  },
  {
   "cell_type": "code",
   "execution_count": 55,
   "metadata": {},
   "outputs": [],
   "source": [
    "def table(n,lamda): # fct pour générer les xn\n",
    "    M=[] \n",
    "    for i in range(n+1) : \n",
    "        M.append(f(random.uniform(0,1),lamda)) \n",
    "    return M"
   ]
  },
  {
   "cell_type": "code",
   "execution_count": 56,
   "metadata": {},
   "outputs": [],
   "source": [
    "def moyenne(M) : # fonction qui calcule la moyenne empérique\n",
    "    \n",
    "    n=len(M) \n",
    "    return (1/n)*(sum(M)) "
   ]
  },
  {
   "cell_type": "code",
   "execution_count": 57,
   "metadata": {},
   "outputs": [],
   "source": [
    "def variance(M,xn_): # fonction qui calcule la variance empérique\n",
    "\n",
    "    var=0\n",
    "    n=len(M) \n",
    "    for i in M:\n",
    "        var=(i-xn_)**2 \n",
    "    return var/n "
   ]
  },
  {
   "cell_type": "code",
   "execution_count": 58,
   "metadata": {},
   "outputs": [
    {
     "name": "stdout",
     "output_type": "stream",
     "text": [
      "[0.3462526194494561, 0.35178616097626836, 0.36108979777919836, 0.3683794665165785] \n",
      " [0.005394982449662221, 0.0006674875090937221, 2.4012352111939836e-06, 1.5292346529827793e-06]\n"
     ]
    }
   ],
   "source": [
    "n=[10,100,1000,10000] \n",
    "teta=[] # pr téta\n",
    "Xn=[] # pr Xn\n",
    "lamda=1\n",
    "for i in n: \n",
    "    t=table(i,lamda) # pr xn\n",
    "    Xn.append(moyenne(t)) \n",
    "    teta.append(variance(t,moyenne(t))) \n",
    "print(Xn,\"\\n\",teta) \n"
   ]
  },
  {
   "cell_type": "code",
   "execution_count": 60,
   "metadata": {},
   "outputs": [
    {
     "data": {
      "image/png": "[encoded data removed]",
      "text/plain": [
       "<Figure size 432x288 with 1 Axes>"
      ]
     },
     "metadata": {
      "needs_background": "light"
     },
     "output_type": "display_data"
    }
   ],
   "source": [
    "plt.plot(n,teta,'r*',color=\"yellow\",label=\"Variance empérique\")\n",
    "plt.plot(n,Xn,'b*',color=\"blue\",label=\"Moyenne empérique\")\n",
    "plt.xlabel(\"X= Nbr d'echantillons\")\n",
    "plt.ylabel(\"Y= Var aléatoires\")\n",
    "plt.title(\"Courbe\")\n",
    "plt.legend()\n",
    "plt.grid() \n",
    "plt.show() "
   ]
  },
  {
   "cell_type": "code",
   "execution_count": null,
   "metadata": {},
   "outputs": [],
   "source": []
  }
 ],
 "metadata": {
  "kernelspec": {
   "display_name": "Python 3",
   "language": "python",
   "name": "python3"
  },
  "language_info": {
   "codemirror_mode": {
    "name": "ipython",
    "version": 3
   },
   "file_extension": ".py",
   "mimetype": "text/x-python",
   "name": "python",
   "nbconvert_exporter": "python",
   "pygments_lexer": "ipython3",
   "version": "3.8.3"
  }
 },
 "nbformat": 4,
 "nbformat_minor": 4
}
